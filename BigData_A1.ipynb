{
 "cells": [
  {
   "cell_type": "markdown",
   "metadata": {},
   "source": [
    "<h1 style=\"color: #9966cc\">Домашнее задание 1. Spark RDD API<h1>"
   ]
  },
  {
   "cell_type": "code",
   "execution_count": 2,
   "metadata": {},
   "outputs": [],
   "source": [
    "import csv\n",
    "import os\n",
    "import sys\n",
    "\n",
    "os.environ[\"SPARK_HOME\"]=\"/home/ubuntu/BigData/spark\"\n",
    "os.environ[\"PYSPARK_PYTHON\"]=\"/home/ubuntu/ML/anaconda3/bin/python\"\n",
    "os.environ[\"PYSPARK_DRIVER_PYTHON\"]=\"/home/ubuntu/ML/anaconda3/bin/python\"\n",
    "\n",
    "spark_home = os.environ.get(\"SPARK_HOME\")\n",
    "sys.path.insert(0, os.path.join(spark_home, \"python\"))\n",
    "sys.path.insert(0, os.path.join(spark_home, \"python/lib/py4j-0.10.7-src.zip\"))"
   ]
  },
  {
   "cell_type": "code",
   "execution_count": 3,
   "metadata": {},
   "outputs": [],
   "source": [
    "import pyspark"
   ]
  },
  {
   "cell_type": "code",
   "execution_count": 4,
   "metadata": {},
   "outputs": [],
   "source": [
    "conf = (\n",
    "    pyspark.SparkConf()\n",
    "        .set(\"spark.executor.memory\", \"1g\")\n",
    "        .set(\"spark.executor.core\", \"2\")\n",
    "        .set(\"spark.driver.host\", \"127.0.0.1\")  # if you have some troubles with address binding\n",
    "        .setMaster(\"local[2]\")\n",
    ")"
   ]
  },
  {
   "cell_type": "code",
   "execution_count": 5,
   "metadata": {},
   "outputs": [
    {
     "data": {
      "text/html": [
       "\n",
       "        <div>\n",
       "            <p><b>SparkContext</b></p>\n",
       "\n",
       "            <p><a href=\"http://127.0.0.1:4040\">Spark UI</a></p>\n",
       "\n",
       "            <dl>\n",
       "              <dt>Version</dt>\n",
       "                <dd><code>v2.4.6</code></dd>\n",
       "              <dt>Master</dt>\n",
       "                <dd><code>local[2]</code></dd>\n",
       "              <dt>AppName</dt>\n",
       "                <dd><code>pyspark-shell</code></dd>\n",
       "            </dl>\n",
       "        </div>\n",
       "        "
      ],
      "text/plain": [
       "<SparkContext master=local[2] appName=pyspark-shell>"
      ]
     },
     "execution_count": 5,
     "metadata": {},
     "output_type": "execute_result"
    }
   ],
   "source": [
    "sc = pyspark.SparkContext(conf=conf)\n",
    "sc\n"
   ]
  },
  {
   "cell_type": "markdown",
   "metadata": {},
   "source": [
    "<h1 style=\"color: #3caa3c\"> Task1 <h1>"
   ]
  },
  {
   "cell_type": "markdown",
   "metadata": {},
   "source": [
    "<h5 style=\"color: #9966cc\">Вычисление расстояния от заданной точки до каждой точки общепита<h5>"
   ]
  },
  {
   "cell_type": "code",
   "execution_count": 21,
   "metadata": {},
   "outputs": [],
   "source": [
    "# Local FS\n",
    "FILE_PATH = \"file:///home/ubuntu/BigData/datasets/places.csv\"\n",
    "OUTPUT_DIR_PATH = \"file:///home/ubuntu/BigData/datasets/output\""
   ]
  },
  {
   "cell_type": "code",
   "execution_count": 22,
   "metadata": {
    "scrolled": true
   },
   "outputs": [],
   "source": [
    "import csv\n",
    "with open(\"/home/ubuntu/BigData/datasets/places.csv\", 'r') as f:\n",
    "    reader = csv.reader(f,delimiter=\",\")\n",
    "    list_csv=list(reader)"
   ]
  },
  {
   "cell_type": "code",
   "execution_count": 23,
   "metadata": {},
   "outputs": [],
   "source": [
    "data1_rdd= sc.parallelize(list_csv)\n",
    "#data1_rdd.collect()"
   ]
  },
  {
   "cell_type": "code",
   "execution_count": 24,
   "metadata": {},
   "outputs": [],
   "source": [
    "def str_filter(str_list):\n",
    "    return str_list[1], float(str_list[12]), float(str_list[13])"
   ]
  },
  {
   "cell_type": "code",
   "execution_count": 25,
   "metadata": {},
   "outputs": [],
   "source": [
    "data1_map_rdd = data1_rdd.map(str_filter)"
   ]
  },
  {
   "cell_type": "code",
   "execution_count": 26,
   "metadata": {},
   "outputs": [],
   "source": [
    "lat=55.751244 \n",
    "lng=37.618423"
   ]
  },
  {
   "cell_type": "code",
   "execution_count": 27,
   "metadata": {},
   "outputs": [],
   "source": [
    "from math import cos, asin, sqrt"
   ]
  },
  {
   "cell_type": "code",
   "execution_count": 28,
   "metadata": {},
   "outputs": [],
   "source": [
    "def cnt_distance(str_map): #вычисление расстояния\n",
    "    lat_0 = lat-str_map[2]\n",
    "    lng_0 = lng-str_map[1]\n",
    "    p = 0.017453292519943295\n",
    "    a = 0.5 - cos((lat_0) * p)/2 + cos(lat * p) * cos(str_map[2] * p) * (1 - cos((lng_0) * p)) / 2\n",
    "    c = 2 * asin(sqrt(a)) \n",
    "    r = 6371*c\n",
    "    return str_map[0], float(r)"
   ]
  },
  {
   "cell_type": "code",
   "execution_count": 29,
   "metadata": {},
   "outputs": [
    {
     "data": {
      "text/plain": [
       "[('Шоколадница', 4.481040075007144),\n",
       " ('МУ-МУ', 4.411446758630132),\n",
       " ('КОМБИНАТ ПИТАНИЯ МГТУ ИМ.Н.Э.БАУМАНА', 4.141565403195976),\n",
       " ('Дом 12', 2.9767774781758223),\n",
       " ('Чито-Ра', 3.0348415747792776),\n",
       " ('Бар- буфет «Николай»', 2.828729205783542),\n",
       " ('Флорентини', 2.8885782352411793),\n",
       " ('Beer Gik', 1.5653137373473913),\n",
       " ('Погребок', 1.5653137373473913),\n",
       " ('Пробка Гриль', 1.6499887343355246)]"
      ]
     },
     "execution_count": 29,
     "metadata": {},
     "output_type": "execute_result"
    }
   ],
   "source": [
    "data2_map_rdd = data1_map_rdd.map(cnt_distance)#вычисление расстояния\n",
    "data2_map_rdd.take(10)\n",
    "#data2_map_rdd.collect()"
   ]
  },
  {
   "cell_type": "markdown",
   "metadata": {},
   "source": [
    "<h5 style=\"color: #9966cc\">Вычисление расстояния между точками общепита<h5>"
   ]
  },
  {
   "cell_type": "code",
   "execution_count": 30,
   "metadata": {},
   "outputs": [],
   "source": [
    "data1_map_rdd_index = data1_map_rdd.zipWithIndex()\n",
    "data_cartesian_rdd = data1_map_rdd_index.cartesian(data1_map_rdd_index)\\\n",
    "                                        .distinct()\\\n",
    "                                        .filter(lambda x:x[0][1]>x[1][1])\n",
    "#data_cartesian_rdd.take(1)"
   ]
  },
  {
   "cell_type": "code",
   "execution_count": 31,
   "metadata": {},
   "outputs": [],
   "source": [
    "def cnt_distance_other(str_m):#вычисление расстояния\n",
    "    lat0=str_m[0][0][2]\n",
    "    lat1=str_m[1][0][2]\n",
    "    lng0=str_m[0][0][1]\n",
    "    lng1=str_m[1][0][1]\n",
    "    lat_0=lat0-lat1\n",
    "    lng_0 = lng0-lng1\n",
    "    p = 0.017453292519943295\n",
    "    a = 0.5 - cos((lat_0) * p)/2 + cos(lat0 * p) * cos(lat1 * p) * (1 - cos((lng_0) * p)) / 2\n",
    "    c = 2 * asin(sqrt(a)) \n",
    "    r = 6371*c\n",
    "    return str_m[0][0][0],str_m[1][0][0], float(r)"
   ]
  },
  {
   "cell_type": "code",
   "execution_count": 32,
   "metadata": {},
   "outputs": [
    {
     "data": {
      "text/plain": [
       "[('Шоколадница', 4.481040075007144),\n",
       " ('МУ-МУ', 4.411446758630132),\n",
       " ('КОМБИНАТ ПИТАНИЯ МГТУ ИМ.Н.Э.БАУМАНА', 4.141565403195976),\n",
       " ('Дом 12', 2.9767774781758223),\n",
       " ('Чито-Ра', 3.0348415747792776),\n",
       " ('Бар- буфет «Николай»', 2.828729205783542),\n",
       " ('Флорентини', 2.8885782352411793),\n",
       " ('Beer Gik', 1.5653137373473913),\n",
       " ('Погребок', 1.5653137373473913),\n",
       " ('Пробка Гриль', 1.6499887343355246)]"
      ]
     },
     "execution_count": 32,
     "metadata": {},
     "output_type": "execute_result"
    }
   ],
   "source": [
    "data4_map_rdd = data_cartesian_rdd.map(cnt_distance_other)#вычисление расстояния\n",
    "data2_map_rdd.take(10)\n",
    "#data4_map_rdd.collect()"
   ]
  },
  {
   "cell_type": "markdown",
   "metadata": {},
   "source": [
    "<h5 style=\"color: #9966cc\">Вывод 10 наиболее близких заведений<h5>"
   ]
  },
  {
   "cell_type": "code",
   "execution_count": 33,
   "metadata": {},
   "outputs": [
    {
     "data": {
      "text/plain": [
       "[('Фуршет.ру', 'КАФЕДРА ПИТАНИЯ ПРИ МИГАИКЕ', 0.0),\n",
       " ('Kozlovna', 'Beer Gik', 0.0),\n",
       " ('PIZZETTA', 'Pizzetta', 0.0),\n",
       " ('Кофейня «Правда кофе»', 'Pizzetta', 0.0),\n",
       " ('Кофейня «Правда кофе»', 'PIZZETTA', 0.0),\n",
       " ('Beer Harbor', 'Кафе Кальян', 0.0),\n",
       " ('Коленки Пчелы', 'Блэк милк', 0.0),\n",
       " ('Мегобари', 'Jeffreys coffee', 0.0),\n",
       " ('Грузины Венахи готовят', 'Тайская кухня «Том-Ям»', 0.0),\n",
       " ('Табу бар вайн', 'Грузины Венахи готовят', 0.0)]"
      ]
     },
     "execution_count": 33,
     "metadata": {},
     "output_type": "execute_result"
    }
   ],
   "source": [
    "place_bliz=data4_map_rdd.sortBy(lambda x:x[2])\n",
    "place_bliz.take(10)"
   ]
  },
  {
   "cell_type": "markdown",
   "metadata": {},
   "source": [
    "<h5 style=\"color: #9966cc\">Вывод 10 наиболее отдаленных заведений<h5>"
   ]
  },
  {
   "cell_type": "code",
   "execution_count": 34,
   "metadata": {},
   "outputs": [
    {
     "data": {
      "text/plain": [
       "[('Политех', 'МНИТИ', 5.456078051682729),\n",
       " ('Залечь на дно', 'МНИТИ', 5.456078051682729),\n",
       " ('Антикафе Checkpoint', 'МНИТИ', 5.456078051682729),\n",
       " ('Calabash Club', 'МНИТИ', 5.456078051682729),\n",
       " ('Шоколадница', 'МНИТИ', 5.402045734207267),\n",
       " ('Мареа', 'МНИТИ', 5.397580177699907),\n",
       " ('БИБЛИОТЕКА Shisha Lounge', 'МНИТИ', 5.394562231716176),\n",
       " ('Му-Му', 'МНИТИ', 5.394562231716176),\n",
       " ('Стейк Хаус «Бизон»', 'МНИТИ', 5.393724300516158),\n",
       " ('Jimmy Poy', 'МНИТИ', 5.3820992042757405)]"
      ]
     },
     "execution_count": 34,
     "metadata": {},
     "output_type": "execute_result"
    }
   ],
   "source": [
    "place_dal=data4_map_rdd.sortBy(lambda x:x[2], ascending=False)\n",
    "place_dal.take(10)"
   ]
  },
  {
   "cell_type": "markdown",
   "metadata": {},
   "source": [
    "<h3> Task2 <h3>"
   ]
  },
  {
   "cell_type": "code",
   "execution_count": 35,
   "metadata": {},
   "outputs": [],
   "source": [
    "import json "
   ]
  },
  {
   "cell_type": "code",
   "execution_count": 36,
   "metadata": {},
   "outputs": [],
   "source": [
    "FILE_PATH = \"file:///home/ubuntu/BigData/datasets/Electronics_5.json\"\n",
    "OUTPUT_DIR_PATH = \"file:///home/ubuntu/BigData/datasets/output\""
   ]
  },
  {
   "cell_type": "markdown",
   "metadata": {},
   "source": [
    "<h5 style=\"color: #9966cc\">Расчет среднего рейтинга товаров<h5>"
   ]
  },
  {
   "cell_type": "code",
   "execution_count": 38,
   "metadata": {},
   "outputs": [],
   "source": [
    "json_reviews_rdd = sc.textFile(FILE_PATH)\n",
    "def json_parse(file):\n",
    "    result=json.loads(file)\n",
    "    return result[\"asin\"],float(result[\"overall\"])\n",
    "data_rdd=json_reviews_rdd.map(json_parse)\n",
    "#data_rdd.take(10)"
   ]
  },
  {
   "cell_type": "code",
   "execution_count": 39,
   "metadata": {},
   "outputs": [
    {
     "data": {
      "text/plain": [
       "[('B00000J4GE', 4.25),\n",
       " ('B00001OPJV', 3.2),\n",
       " ('B00004RDMR', 4.470588235294118),\n",
       " ('B00004TEN2', 4.071428571428571),\n",
       " ('B00004TY7Q', 4.6),\n",
       " ('B00004U4MT', 4.363636363636363),\n",
       " ('B00004U8K4', 1.8),\n",
       " ('B00004Z5M1', 4.681159420289855),\n",
       " ('B00005219A', 4.722222222222222),\n",
       " ('B00005LD4T', 4.545454545454546)]"
      ]
     },
     "execution_count": 39,
     "metadata": {},
     "output_type": "execute_result"
    }
   ],
   "source": [
    "avg_prod_rating_rdd = data_rdd \\\n",
    "    .aggregateByKey((0,0), \n",
    "                    lambda x, value: (x[0] + value, x[1] + 1), \n",
    "                    lambda x, y: (x[0] + y[0], x[1] + y[1])) \\\n",
    "    .mapValues(lambda x: x[0]/x[1])\n",
    "\n",
    "avg_prod_rating_rdd.take(10)"
   ]
  },
  {
   "cell_type": "markdown",
   "metadata": {},
   "source": [
    "<h5 style=\"color: #9966cc\">Сопоставление среднего рейтинга товаров с их наименованием<h5>"
   ]
  },
  {
   "cell_type": "code",
   "execution_count": 40,
   "metadata": {},
   "outputs": [],
   "source": [
    "# Local FS\n",
    "FILE_PATH = \"file:///home/ubuntu/BigData/datasets/meta_Electronics.json\"\n",
    "OUTPUT_DIR_PATH = \"file:///home/ubuntu/BigData/datasets/output\""
   ]
  },
  {
   "cell_type": "code",
   "execution_count": 41,
   "metadata": {
    "scrolled": true
   },
   "outputs": [
    {
     "data": {
      "text/plain": [
       "[('0132793040',\n",
       "  'Kelby Training DVD: Mastering Blend Modes in Adobe Photoshop CS5 By Corey Barker'),\n",
       " ('0321732944',\n",
       "  'Kelby Training DVD: Adobe Photoshop CS5 Crash Course By Matt Kloskowski'),\n",
       " ('0439886341', 'Digital Organizer and Messenger'),\n",
       " ('0511189877', 'CLIKR-5 Time Warner Cable Remote Control UR5U-8780L'),\n",
       " ('0528881469',\n",
       "  'Rand McNally 528881469 7-inch Intelliroute TND 700 Truck GPS'),\n",
       " ('0558835155',\n",
       "  'Polaroid Pbm2200 PC / Gaming Stereo Headphones With Microphone &amp; In-line Volume'),\n",
       " ('0594012015', 'Barnes &amp; Noble NOOK Power Kit in Carbon BNADPN31'),\n",
       " ('0594017580', 'Jonathan Adler Punctuation Cover in Black'),\n",
       " ('0594450209', 'Barnes &amp; Noble 7&quot; Lautner Chocolate NOOK Case'),\n",
       " ('0594287995',\n",
       "  'Kate Spade Rain or Shine Magazine Cover for Nook Simple Touch')]"
      ]
     },
     "execution_count": 41,
     "metadata": {},
     "output_type": "execute_result"
    }
   ],
   "source": [
    "json_reviews_rdd_title = sc.textFile(FILE_PATH)\n",
    "def json_parser_name(file):\n",
    "    try:\n",
    "        result_name = eval(file)\n",
    "        return result_name[\"asin\"], result_name[\"title\"]\n",
    "    except:\n",
    "        return result_name[\"asin\"], \"unknown film\"\n",
    "data_rdd_title_filt=json_reviews_rdd_title.map(json_parser_name)\\\n",
    "                    .filter(lambda x:x!=1 )\n",
    "data_rdd_title_filt.take(10)"
   ]
  },
  {
   "cell_type": "code",
   "execution_count": 42,
   "metadata": {},
   "outputs": [
    {
     "data": {
      "text/plain": [
       "[('B0000CO2UT',\n",
       "  (2.4285714285714284,\n",
       "   'Harman Kardon FL8385 5-Disc CD Changer (Discontinued by Manufacturer)')),\n",
       " ('B0000EI9VB',\n",
       "  (3.6666666666666665, 'Kodak K5000-C Li-Ion Rapid Battery Charger Kit'))]"
      ]
     },
     "execution_count": 42,
     "metadata": {},
     "output_type": "execute_result"
    }
   ],
   "source": [
    "prod_name =avg_prod_rating_rdd.join(data_rdd_title_filt)\n",
    "#prod_name.take(2)"
   ]
  },
  {
   "cell_type": "markdown",
   "metadata": {},
   "source": [
    "<h5 style=\"color: #9966cc\">RDD с рейтингом товаров меньше 3<h5>"
   ]
  },
  {
   "cell_type": "code",
   "execution_count": 43,
   "metadata": {
    "scrolled": true
   },
   "outputs": [
    {
     "data": {
      "text/plain": [
       "[('B001BLN91Y',\n",
       "  (1.0,\n",
       "   'Maxtor OneTouch 4 - 1 TB USB 2.0 Desktop External Hard Drive STM310005OTA3E1-RK')),\n",
       " ('B003KIQTXG',\n",
       "  (1.0,\n",
       "   'NEEWER&reg; Photographic Barn Door &amp; Honeycomb Grid &amp; Gel Set for Alienbees Alienbee Flash')),\n",
       " ('B00111JODG',\n",
       "  (1.0,\n",
       "   'StarTech HDMISPL1HH 1 feet Standard HDMI Cable - 1x HDMI (M) to 2x HDMI (F) (Discontinued by Manufacturer)')),\n",
       " ('B000NNFS4C',\n",
       "  (1.0, 'RCA DRC8335 DVD Recorder &amp; VCR Combo With Built-In Tuner')),\n",
       " ('B000H13L4Y', (1.0, 'ATI TV Wonder 200 PCI Video Card w/PVR Capabilities')),\n",
       " ('B000F1ORW6', (1.0, 'GE 24746 Futura HDTV Ready Antenna')),\n",
       " ('B001T9N0R6',\n",
       "  (1.0, 'Zeikos 57-in-1 USB 2.0 Flash Memory Card Reader ZE-CR201')),\n",
       " ('B00000JBIA', (1.0, 'Agfa ePhoto SMILE 0.2MP Digital Camera')),\n",
       " ('B0013WI5SS', (1.0, 'Dynex-DX-AP100 Adapter Mini DVI to Mini-DIN')),\n",
       " ('B004K9CL6S',\n",
       "  (1.0,\n",
       "   'NEW SYLVANIA HD1Z SDSDHCMMC 720P HARD DRIVE POCKET VIDEO DIGITAL CAMERACAMCORDER W4X DIGITAL ZOOM HDMI &amp; 2 LCD PEACOCK BLUE'))]"
      ]
     },
     "execution_count": 43,
     "metadata": {},
     "output_type": "execute_result"
    }
   ],
   "source": [
    "rating_less_three=prod_name.filter(lambda x: x[1][0]<3)\\\n",
    "                  .sortBy(lambda x: x[1][0])\n",
    "rating_less_three.take(10)"
   ]
  },
  {
   "cell_type": "markdown",
   "metadata": {},
   "source": [
    "<h5 style=\"color: #9966cc\">Сохранение RDD в файл<h5>"
   ]
  },
  {
   "cell_type": "code",
   "execution_count": 46,
   "metadata": {},
   "outputs": [],
   "source": [
    "rating_less_three.coalesce(1)\\\n",
    "                 .saveAsTextFile(OUTPUT_DIR_PATH)"
   ]
  },
  {
   "cell_type": "markdown",
   "metadata": {},
   "source": [
    "<h1> Task3 <h1>"
   ]
  },
  {
   "cell_type": "markdown",
   "metadata": {},
   "source": [
    "<h5 style=\"color: #9966cc\"> Вычисление косинусного сходства между фильмами<h5>"
   ]
  },
  {
   "cell_type": "code",
   "execution_count": 6,
   "metadata": {},
   "outputs": [],
   "source": [
    "# Local FS\n",
    "FILE_PATH = \"file:///home/ubuntu/datasets/ratings.csv\"\n",
    "OUTPUT_DIR_PATH = \"file:///home/ubuntu/BigData/datasets/output\""
   ]
  },
  {
   "cell_type": "code",
   "execution_count": 7,
   "metadata": {},
   "outputs": [],
   "source": [
    "rat_films_rdd = sc.textFile(FILE_PATH)"
   ]
  },
  {
   "cell_type": "code",
   "execution_count": 8,
   "metadata": {},
   "outputs": [
    {
     "data": {
      "text/plain": [
       "[(('1', '2617', 2.0), 0),\n",
       " (('1', '2628', 4.0), 1),\n",
       " (('1', '2641', 5.0), 2),\n",
       " (('1', '2644', 4.0), 3),\n",
       " (('1', '2654', 5.0), 4),\n",
       " (('1', '2761', 5.0), 5),\n",
       " (('1', '2797', 4.0), 6),\n",
       " (('1', '2826', 4.0), 7),\n",
       " (('1', '2858', 5.0), 8),\n",
       " (('1', '2899', 5.0), 9)]"
      ]
     },
     "execution_count": 8,
     "metadata": {},
     "output_type": "execute_result"
    }
   ],
   "source": [
    "def csv_parse(file_csv):\n",
    "    result = file_csv.split(\",\")\n",
    "    try:\n",
    "        return result[0], result[1], float(result[2])\n",
    "    except:\n",
    "        return 1\n",
    "data_rat_film=rat_films_rdd.map(csv_parse)\\\n",
    "                           .filter(lambda x: x!=1)\\\n",
    "                           .sample(False, 0.6, seed=1)\\\n",
    "                           .repartition(10)\\\n",
    "                           .zipWithIndex()\n",
    "#data_rat_film.take(10)"
   ]
  },
  {
   "cell_type": "code",
   "execution_count": 9,
   "metadata": {},
   "outputs": [
    {
     "data": {
      "text/plain": [
       "[((('1', '2617', 2.0), 0), (('1', '2628', 4.0), 1)),\n",
       " ((('1', '2617', 2.0), 0), (('1', '2641', 5.0), 2)),\n",
       " ((('1', '2617', 2.0), 0), (('1', '2644', 4.0), 3)),\n",
       " ((('1', '2617', 2.0), 0), (('1', '2654', 5.0), 4)),\n",
       " ((('1', '2617', 2.0), 0), (('1', '2761', 5.0), 5))]"
      ]
     },
     "execution_count": 9,
     "metadata": {},
     "output_type": "execute_result"
    }
   ],
   "source": [
    "data_film_cart= data_rat_film.cartesian(data_rat_film)\\\n",
    "                             .filter(lambda x:x[0][1]<x[1][1])\\\n",
    "                             .filter(lambda x:x[0][0][0]==x[1][0][0])\n",
    "#data_film_cart.take(5)"
   ]
  },
  {
   "cell_type": "code",
   "execution_count": 10,
   "metadata": {},
   "outputs": [
    {
     "data": {
      "text/plain": [
       "[(('2644', '2858'), 20.0),\n",
       " (('319', '4239'), 35.5),\n",
       " (('357', '4902'), 38.0),\n",
       " (('7451', '8636'), 108.5),\n",
       " (('39', '261'), 138.5)]"
      ]
     },
     "execution_count": 10,
     "metadata": {},
     "output_type": "execute_result"
    }
   ],
   "source": [
    "from math import sqrt\n",
    "data_film = data_film_cart.map(lambda x: ((x[0][0][1], x[1][0][1]), x[0][0][2]*x[1][0][2]))       \n",
    "#data_film.take(5)\n",
    "data_film_chisl=data_film.reduceByKey(lambda x, value: x+value)\n",
    "#data_film_chisl.take(5)"
   ]
  },
  {
   "cell_type": "code",
   "execution_count": 46,
   "metadata": {},
   "outputs": [
    {
     "data": {
      "text/plain": [
       "[(('319', '553'), 375.25624578413084),\n",
       " (('319', '248'), 175.43695448792994),\n",
       " (('319', '637'), 203.2993482527674),\n",
       " (('319', '667'), 99.53705340223812),\n",
       " (('319', '697'), 82.8198345808539)]"
      ]
     },
     "execution_count": 46,
     "metadata": {},
     "output_type": "execute_result"
    }
   ],
   "source": [
    "from math import sqrt\n",
    "data_rat=data_rat_film.map(lambda x: (x[0][1],x[0][2]**2))\n",
    "\n",
    "data_film_abs=data_rat.reduceByKey(lambda x,value: x+value)\\\n",
    "                      .map(lambda x: (x[0], sqrt(x[1])))\\\n",
    "                      .zipWithIndex()\n",
    "data_film_abs_znam = data_film_abs.cartesian(data_film_abs)\\\n",
    "                                  .filter(lambda x:x[0][1]<x[1][1])\\\n",
    "                                  .filter(lambda x:x[0][0][0]!=x[1][0][0])\\\n",
    "                                  .map(lambda x: ((x[0][0][0],x[1][0][0]),(x[0][0][1]*x[1][0][1])))\n",
    "#data_film_abs_znam.take(5)"
   ]
  },
  {
   "cell_type": "code",
   "execution_count": 47,
   "metadata": {},
   "outputs": [
    {
     "data": {
      "text/plain": [
       "[(('2644', '2858'), 0.04786469966576814),\n",
       " (('1077', '3623'), 0.043200823821115744),\n",
       " (('1079', '2502'), 0.10984090372009993),\n",
       " (('1924', '3584'), 0.17118419700436519),\n",
       " (('40815', '122882'), 0.17949130790100784)]"
      ]
     },
     "execution_count": 47,
     "metadata": {},
     "output_type": "execute_result"
    }
   ],
   "source": [
    "data_film_cos = data_film_chisl.join(data_film_abs_znam)\n",
    "data_film_cos_res = data_film_cos.map(lambda x: (x[0],x[1][0]/x[1][1]))\n",
    "\n",
    "#data_film_cos_res.take(5)"
   ]
  },
  {
   "cell_type": "code",
   "execution_count": 48,
   "metadata": {},
   "outputs": [
    {
     "data": {
      "text/plain": [
       "[('2644', '2858', 0.04786469966576814),\n",
       " ('1077', '3623', 0.043200823821115744),\n",
       " ('1079', '2502', 0.10984090372009993),\n",
       " ('1924', '3584', 0.17118419700436519),\n",
       " ('40815', '122882', 0.17949130790100784)]"
      ]
     },
     "execution_count": 48,
     "metadata": {},
     "output_type": "execute_result"
    }
   ],
   "source": [
    "film_cos=data_film_cos_res.map(lambda x: (x[0][0], x[0][1], x[1]))\n",
    "film_cos.take(5)"
   ]
  },
  {
   "cell_type": "markdown",
   "metadata": {},
   "source": [
    "<h5 style=\"color: #9966cc\">RDD для movieId равным 589<h5> "
   ]
  },
  {
   "cell_type": "code",
   "execution_count": 49,
   "metadata": {},
   "outputs": [
    {
     "data": {
      "text/plain": [
       "[('7153', '589', 0.07603093432293428),\n",
       " ('6217', '589', 0.07080707990591183),\n",
       " ('5377', '589', 0.047297558608447206),\n",
       " ('3752', '589', 0.09080061344590405),\n",
       " ('7169', '589', 0.0515045719694647)]"
      ]
     },
     "execution_count": 49,
     "metadata": {},
     "output_type": "execute_result"
    }
   ],
   "source": [
    "film_cos_589= film_cos.filter(lambda x: x[0]==\"589\" or x[1]==\"589\")\n",
    "film_cos_589.take(5)"
   ]
  },
  {
   "cell_type": "markdown",
   "metadata": {},
   "source": [
    "<h5 style=\"color: #9966cc\"> Добавление наименования похожим фильмам<h5>"
   ]
  },
  {
   "cell_type": "code",
   "execution_count": 50,
   "metadata": {},
   "outputs": [
    {
     "data": {
      "text/plain": [
       "[('7153', ('589', 0.07603093432293428)),\n",
       " ('6217', ('589', 0.07080707990591183)),\n",
       " ('5377', ('589', 0.047297558608447206)),\n",
       " ('3752', ('589', 0.09080061344590405)),\n",
       " ('7169', ('589', 0.0515045719694647))]"
      ]
     },
     "execution_count": 50,
     "metadata": {},
     "output_type": "execute_result"
    }
   ],
   "source": [
    "def name_film(res):\n",
    "    if (int(res[0])==589):\n",
    "        return res[1], (res[0], res[2])\n",
    "    if (int(res[1])==589):\n",
    "        return res[0], (res[1], res[2])\n",
    "rdd_id_film = film_cos_589.map(name_film)\n",
    "#rdd_id_film.take(5)"
   ]
  },
  {
   "cell_type": "code",
   "execution_count": 51,
   "metadata": {},
   "outputs": [],
   "source": [
    "# Local FS\n",
    "FILE_PATH = \"file:///home/ubuntu/datasets/movies.csv\"\n",
    "OUTPUT_DIR_PATH = \"file:///home/ubuntu/BigData/datasets/output\""
   ]
  },
  {
   "cell_type": "code",
   "execution_count": 52,
   "metadata": {},
   "outputs": [],
   "source": [
    "name_films_rdd = sc.textFile(FILE_PATH)"
   ]
  },
  {
   "cell_type": "code",
   "execution_count": 53,
   "metadata": {},
   "outputs": [
    {
     "data": {
      "text/plain": [
       "[('1', 'Toy Story (1995)'),\n",
       " ('2', 'Jumanji (1995)'),\n",
       " ('3', 'Grumpier Old Men (1995)'),\n",
       " ('4', 'Waiting to Exhale (1995)'),\n",
       " ('5', 'Father of the Bride Part II (1995)'),\n",
       " ('6', 'Heat (1995)'),\n",
       " ('7', 'Sabrina (1995)'),\n",
       " ('8', 'Tom and Huck (1995)'),\n",
       " ('9', 'Sudden Death (1995)'),\n",
       " ('10', 'GoldenEye (1995)')]"
      ]
     },
     "execution_count": 53,
     "metadata": {},
     "output_type": "execute_result"
    }
   ],
   "source": [
    "def csv_parse_name(file_csv):\n",
    "    result = file_csv.split(\",\")\n",
    "    try:\n",
    "        return result[0], result[1]\n",
    "    except:\n",
    "        return 1\n",
    "name_film=name_films_rdd.map(csv_parse_name)\\\n",
    "                           .filter(lambda x: x!=1)\\\n",
    "                            .filter(lambda x: x[0]!=\"movieId\")\n",
    "#name_film.take(10)"
   ]
  },
  {
   "cell_type": "code",
   "execution_count": 54,
   "metadata": {},
   "outputs": [
    {
     "data": {
      "text/plain": [
       "[('589', '74075', 'Stan Helsing (2009)', 0.06785547598194783),\n",
       " ('589', '4519', '\"Land Before Time', 0.07802670566915001),\n",
       " ('589', '7069', '\"Macbeth (a.k.a. Tragedy of Macbeth', 0.06419454749779736),\n",
       " ('589',\n",
       "  '66',\n",
       "  'Lawnmower Man 2: Beyond Cyberspace (1996)',\n",
       "  0.020653098453432182),\n",
       " ('589', '5456', 'Wagons East (1994)', 0.08529967503551326),\n",
       " ('589', '2745', '\"Mission', 0.08793468750895637),\n",
       " ('589', '3156', 'Bicentennial Man (1999)', 0.13977068129614895),\n",
       " ('589', '3412', '\"Bear', 0.04482385219291597),\n",
       " ('589', '38798', 'In Her Shoes (2005)', 0.029882568128610645),\n",
       " ('589', '36397', 'Valiant (2005)', 0.08529967503551328)]"
      ]
     },
     "execution_count": 54,
     "metadata": {},
     "output_type": "execute_result"
    }
   ],
   "source": [
    "name_fimiliar_film=rdd_id_film.join(name_film).map(lambda x: (x[1][0][0], x[0], x[1][1], x[1][0][1]))\n",
    "#name_fimiliar_film.take(10)"
   ]
  },
  {
   "cell_type": "markdown",
   "metadata": {},
   "source": [
    "<h5 style=\"color: #9966cc\">Вывод 10 наиболее похожих фильмов<h5>"
   ]
  },
  {
   "cell_type": "code",
   "execution_count": 55,
   "metadata": {},
   "outputs": [
    {
     "data": {
      "text/plain": [
       "[('589', '480', 'Jurassic Park (1993)', 0.4305079793627106),\n",
       " ('589', '592', 'Batman (1989)', 0.41754823116964357),\n",
       " ('589', '380', 'True Lies (1994)', 0.3650254594508409),\n",
       " ('589', '457', '\"Fugitive', 0.3646481252265604),\n",
       " ('589', '377', 'Speed (1994)', 0.3633615843957008),\n",
       " ('589',\n",
       "  '32',\n",
       "  'Twelve Monkeys (a.k.a. 12 Monkeys) (1995)',\n",
       "  0.33684139691551196),\n",
       " ('589', '110', 'Braveheart (1995)', 0.33237183937924),\n",
       " ('589', '296', 'Pulp Fiction (1994)', 0.3294827352039905),\n",
       " ('589', '367', '\"Mask', 0.32313253168594863),\n",
       " ('589', '587', 'Ghost (1990)', 0.3111574823207267)]"
      ]
     },
     "execution_count": 55,
     "metadata": {},
     "output_type": "execute_result"
    }
   ],
   "source": [
    "rat_film_sort=name_fimiliar_film.sortBy(lambda x: x[3], ascending = False)\n",
    "rat_film_sort.take(10)"
   ]
  },
  {
   "cell_type": "code",
   "execution_count": null,
   "metadata": {},
   "outputs": [],
   "source": [
    "# sc.stop()"
   ]
  },
  {
   "cell_type": "code",
   "execution_count": null,
   "metadata": {},
   "outputs": [],
   "source": []
  }
 ],
 "metadata": {
  "kernelspec": {
   "display_name": "Python 3",
   "language": "python",
   "name": "python3"
  },
  "language_info": {
   "codemirror_mode": {
    "name": "ipython",
    "version": 3
   },
   "file_extension": ".py",
   "mimetype": "text/x-python",
   "name": "python",
   "nbconvert_exporter": "python",
   "pygments_lexer": "ipython3",
   "version": "3.7.3"
  }
 },
 "nbformat": 4,
 "nbformat_minor": 2
}
