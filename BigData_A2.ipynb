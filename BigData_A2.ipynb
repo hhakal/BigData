{
 "cells": [
  {
   "cell_type": "markdown",
   "metadata": {},
   "source": [
    "<h1 style=\"color: #9966cc\">BigData_A4<h1>"
   ]
  },
  {
   "cell_type": "code",
   "execution_count": 21,
   "metadata": {
    "scrolled": false
   },
   "outputs": [],
   "source": [
    "#!/home/ubuntu/ML/anaconda3/bin/pip install geopandas==0.8 rtree"
   ]
  },
  {
   "cell_type": "code",
   "execution_count": 1,
   "metadata": {},
   "outputs": [],
   "source": [
    "import json\n",
    "import pandas as pd\n",
    "import geopandas as gpd\n",
    "from shapely.geometry import Point, Polygon, MultiPolygon\n",
    "from geopandas.tools import sjoin"
   ]
  },
  {
   "cell_type": "code",
   "execution_count": 2,
   "metadata": {
    "scrolled": true
   },
   "outputs": [],
   "source": [
    "#!/home/ubuntu/ML/anaconda3/bin/pip install folium"
   ]
  },
  {
   "cell_type": "code",
   "execution_count": 3,
   "metadata": {},
   "outputs": [],
   "source": [
    "import os\n",
    "import sys\n",
    "\n",
    "os.environ[\"SPARK_HOME\"]=\"/home/ubuntu/BigData/spark\"\n",
    "os.environ[\"PYSPARK_PYTHON\"]=\"/home/ubuntu/ML/anaconda3/bin/python\"\n",
    "os.environ[\"PYSPARK_DRIVER_PYTHON\"]=\"/home/ubuntu/ML/anaconda3/bin/python\"\n",
    "\n",
    "spark_home = os.environ.get(\"SPARK_HOME\")\n",
    "sys.path.insert(0, os.path.join(spark_home, \"python\"))\n",
    "sys.path.insert(0, os.path.join(spark_home, \"python/lib/py4j-0.10.7-src.zip\"))"
   ]
  },
  {
   "cell_type": "code",
   "execution_count": 4,
   "metadata": {},
   "outputs": [],
   "source": [
    "import pyspark\n",
    "from pyspark.sql import SparkSession, Row"
   ]
  },
  {
   "cell_type": "code",
   "execution_count": 5,
   "metadata": {},
   "outputs": [],
   "source": [
    "conf = pyspark.SparkConf() \\\n",
    "        .set(\"spark.driver.memory\", \"2g\") \\\n",
    "        .set(\"spark.executor.memory\", \"1g\") \\\n",
    "        .set(\"spark.executor.core\", \"2\") \\\n",
    "        .setAppName(\"bikeGraphApp\") \\\n",
    "        .setMaster(\"local[4]\") \\\n",
    "        .set(\"spark.driver.host\", \"127.0.0.1\")  "
   ]
  },
  {
   "cell_type": "code",
   "execution_count": 6,
   "metadata": {},
   "outputs": [],
   "source": [
    "spark = SparkSession\\\n",
    "    .builder\\\n",
    "    .config(conf=conf)\\\n",
    "    .getOrCreate()"
   ]
  },
  {
   "cell_type": "code",
   "execution_count": 7,
   "metadata": {},
   "outputs": [],
   "source": [
    "import pyspark.sql.functions as F\n",
    "from pyspark.sql.types import (\n",
    "    StructType, \n",
    "    StructField, \n",
    "    StringType, \n",
    "    IntegerType, \n",
    "    DoubleType\n",
    ")"
   ]
  },
  {
   "cell_type": "code",
   "execution_count": 8,
   "metadata": {},
   "outputs": [
    {
     "data": {
      "text/html": [
       "\n",
       "        <div>\n",
       "            <p><b>SparkContext</b></p>\n",
       "\n",
       "            <p><a href=\"http://127.0.0.1:4040\">Spark UI</a></p>\n",
       "\n",
       "            <dl>\n",
       "              <dt>Version</dt>\n",
       "                <dd><code>v2.4.6</code></dd>\n",
       "              <dt>Master</dt>\n",
       "                <dd><code>local[4]</code></dd>\n",
       "              <dt>AppName</dt>\n",
       "                <dd><code>bikeGraphApp</code></dd>\n",
       "            </dl>\n",
       "        </div>\n",
       "        "
      ],
      "text/plain": [
       "<SparkContext master=local[4] appName=bikeGraphApp>"
      ]
     },
     "execution_count": 8,
     "metadata": {},
     "output_type": "execute_result"
    }
   ],
   "source": [
    "sc = spark.sparkContext\n",
    "sc"
   ]
  },
  {
   "cell_type": "markdown",
   "metadata": {},
   "source": [
    "<h2 style=\"color: #3caa3c\"> Task1 <h2>"
   ]
  },
  {
   "cell_type": "code",
   "execution_count": 9,
   "metadata": {},
   "outputs": [],
   "source": [
    "BASE_PATH = \"/home/ubuntu/BigData/datasets\"\n",
    "trips_data_path = \"file://{}/201902-citibike-tripdata.csv\".format(BASE_PATH)"
   ]
  },
  {
   "cell_type": "code",
   "execution_count": 10,
   "metadata": {},
   "outputs": [
    {
     "name": "stdout",
     "output_type": "stream",
     "text": [
      "Total number of trips: 943744\n",
      "+------------+--------------------+--------------------+----------------+--------------------+----------------------+-----------------------+--------------+--------------------+--------------------+---------------------+------+----------+----------+------+\n",
      "|tripduration|           starttime|            stoptime|start station id|  start station name|start station latitude|start station longitude|end station id|    end station name|end station latitude|end station longitude|bikeid|  usertype|birth year|gender|\n",
      "+------------+--------------------+--------------------+----------------+--------------------+----------------------+-----------------------+--------------+--------------------+--------------------+---------------------+------+----------+----------+------+\n",
      "|         219|2019-02-01 00:00:...|2019-02-01 00:03:...|            3494|E 115 St & Lexing...|             40.797911|               -73.9423|          3501|E 118 St & Madiso...|          40.8014866|          -73.9442507| 33450|Subscriber|      1989|     1|\n",
      "|         143|2019-02-01 00:00:...|2019-02-01 00:02:...|             438| St Marks Pl & 1 Ave|           40.72779126|           -73.98564945|           236| St Marks Pl & 2 Ave|          40.7284186|         -73.98713956| 25626|Subscriber|      1990|     1|\n",
      "|         296|2019-02-01 00:01:...|2019-02-01 00:06:...|            3571|Bedford Ave & Ber...|             40.676368|             -73.952918|          3549|Grand Ave & Berge...|           40.678045|           -73.962408| 35568|Subscriber|      1987|     1|\n",
      "|         478|2019-02-01 00:01:...|2019-02-01 00:09:...|             167|     E 39 St & 3 Ave|            40.7489006|           -73.97604882|           477|     W 41 St & 8 Ave|         40.75640548|          -73.9900262| 25045|Subscriber|      1964|     2|\n",
      "|         225|2019-02-01 00:01:...|2019-02-01 00:05:...|            3458|     W 55 St & 6 Ave|     40.76309387270797|      -73.9783501625061|          3443|     W 52 St & 6 Ave|   40.76132983124814|   -73.97982001304626| 34006|Subscriber|      1979|     1|\n",
      "+------------+--------------------+--------------------+----------------+--------------------+----------------------+-----------------------+--------------+--------------------+--------------------+---------------------+------+----------+----------+------+\n",
      "only showing top 5 rows\n",
      "\n"
     ]
    }
   ],
   "source": [
    "df_trips = spark.read.load(trips_data_path, \n",
    "                           format=\"csv\", \n",
    "                           header=\"true\", \n",
    "                           inferSchema=\"true\",\n",
    "                           sep=\",\")\n",
    "\n",
    "print(\"Total number of trips:\", df_trips.count())\n",
    "df_trips.show(5, truncate=True)"
   ]
  },
  {
   "cell_type": "markdown",
   "metadata": {},
   "source": [
    "<h2> Количество начала и конца поездок для каждой станции <h2>"
   ]
  },
  {
   "cell_type": "code",
   "execution_count": 11,
   "metadata": {},
   "outputs": [
    {
     "name": "stdout",
     "output_type": "stream",
     "text": [
      "+----+------------------+------------------+------------------+----------------+\n",
      "|  id|               lat|               lng|trips_number_start|trips_number_end|\n",
      "+----+------------------+------------------+------------------+----------------+\n",
      "| 296|       40.71413089|       -73.9970468|              1795|            1825|\n",
      "|3414|40.680944723477296|-73.97567331790923|               656|             681|\n",
      "|3606|          40.74252|        -73.948852|               215|             224|\n",
      "| 467|       40.68312489|      -73.97895137|              1276|            1312|\n",
      "|3368|        40.6728155|      -73.98352355|               745|             769|\n",
      "+----+------------------+------------------+------------------+----------------+\n",
      "only showing top 5 rows\n",
      "\n"
     ]
    }
   ],
   "source": [
    "df_stations_start = df_trips.select(F.col(\"start station id\").alias(\"id\"), \n",
    "                              F.col(\"start station latitude\").alias(\"lat\"), \n",
    "                              F.col(\"start station longitude\").alias(\"lng\"))\\\n",
    "                        \n",
    "\n",
    "df_stations_end = df_trips.select(F.col(\"end station id\").alias(\"id\"),  \n",
    "                              F.col(\"end station latitude\").alias(\"lat\"), \n",
    "                              F.col(\"end station longitude\").alias(\"lng\"))\\\n",
    "\n",
    "df_stations_start.createOrReplaceTempView(\"trips_st\")\n",
    "df_stations_end.createOrReplaceTempView(\"trips_end\")\n",
    "df_count_start = spark.sql(\"SELECT id,lat,lng, count(*) as trips_number_start from trips_st group by id, lat,lng\")\n",
    "df_count_end = spark.sql(\"SELECT id, count(*) as trips_number_end from trips_end group by id\")\n",
    "\n",
    "df_stations=df_count_start.join(df_count_end,on=\"id\")\n",
    "\n",
    "df_stations.show(5)"
   ]
  },
  {
   "cell_type": "markdown",
   "metadata": {},
   "source": [
    "<h2> Сопоставление станций с кварталами. Подсчет количества начала и конца поездок для каждого квартала<h2>"
   ]
  },
  {
   "cell_type": "code",
   "execution_count": 12,
   "metadata": {},
   "outputs": [],
   "source": [
    "borough_data_path = BASE_PATH + \"/NYC Taxi Zones.geojson\""
   ]
  },
  {
   "cell_type": "code",
   "execution_count": 13,
   "metadata": {},
   "outputs": [],
   "source": [
    "with open(borough_data_path) as f:\n",
    "    zones_geojson = json.load(f)"
   ]
  },
  {
   "cell_type": "code",
   "execution_count": 14,
   "metadata": {},
   "outputs": [],
   "source": [
    "column_name_list = [key for key, _ in zones_geojson[\"features\"][0][\"properties\"].items()]\n",
    "column_name_list += [\"geometry\"]\n",
    "#column_name_list"
   ]
  },
  {
   "cell_type": "code",
   "execution_count": 15,
   "metadata": {},
   "outputs": [],
   "source": [
    "def create_zone_rows(features):\n",
    "    for item in features:\n",
    "        row = list()\n",
    "        for key, value in item[\"properties\"].items():\n",
    "            row.append(value)        \n",
    "        polygons = list()\n",
    "        for polygon in item[\"geometry\"][\"coordinates\"]:\n",
    "            polygons.append(Polygon(polygon[0]))\n",
    "        row.append(MultiPolygon(polygons=polygons))\n",
    "        yield row"
   ]
  },
  {
   "cell_type": "code",
   "execution_count": 54,
   "metadata": {},
   "outputs": [
    {
     "data": {
      "text/html": [
       "<div>\n",
       "<style scoped>\n",
       "    .dataframe tbody tr th:only-of-type {\n",
       "        vertical-align: middle;\n",
       "    }\n",
       "\n",
       "    .dataframe tbody tr th {\n",
       "        vertical-align: top;\n",
       "    }\n",
       "\n",
       "    .dataframe thead th {\n",
       "        text-align: right;\n",
       "    }\n",
       "</style>\n",
       "<table border=\"1\" class=\"dataframe\">\n",
       "  <thead>\n",
       "    <tr style=\"text-align: right;\">\n",
       "      <th></th>\n",
       "      <th>shape_area</th>\n",
       "      <th>objectid</th>\n",
       "      <th>shape_leng</th>\n",
       "      <th>location_id</th>\n",
       "      <th>zone</th>\n",
       "      <th>borough</th>\n",
       "      <th>geometry</th>\n",
       "    </tr>\n",
       "  </thead>\n",
       "  <tbody>\n",
       "    <tr>\n",
       "      <th>0</th>\n",
       "      <td>0.0007823067885</td>\n",
       "      <td>1</td>\n",
       "      <td>0.116357453189</td>\n",
       "      <td>1</td>\n",
       "      <td>Newark Airport</td>\n",
       "      <td>EWR</td>\n",
       "      <td>(POLYGON ((-74.18445299999996 40.6949959999999...</td>\n",
       "    </tr>\n",
       "    <tr>\n",
       "      <th>1</th>\n",
       "      <td>0.00486634037837</td>\n",
       "      <td>2</td>\n",
       "      <td>0.43346966679</td>\n",
       "      <td>2</td>\n",
       "      <td>Jamaica Bay</td>\n",
       "      <td>Queens</td>\n",
       "      <td>(POLYGON ((-73.82337597260663 40.6389870471767...</td>\n",
       "    </tr>\n",
       "    <tr>\n",
       "      <th>2</th>\n",
       "      <td>0.000314414156821</td>\n",
       "      <td>3</td>\n",
       "      <td>0.0843411059012</td>\n",
       "      <td>3</td>\n",
       "      <td>Allerton/Pelham Gardens</td>\n",
       "      <td>Bronx</td>\n",
       "      <td>(POLYGON ((-73.84792614099985 40.8713422339999...</td>\n",
       "    </tr>\n",
       "    <tr>\n",
       "      <th>3</th>\n",
       "      <td>0.000111871946192</td>\n",
       "      <td>4</td>\n",
       "      <td>0.0435665270921</td>\n",
       "      <td>4</td>\n",
       "      <td>Alphabet City</td>\n",
       "      <td>Manhattan</td>\n",
       "      <td>(POLYGON ((-73.97177410965318 40.7258212813370...</td>\n",
       "    </tr>\n",
       "    <tr>\n",
       "      <th>4</th>\n",
       "      <td>0.000497957489363</td>\n",
       "      <td>5</td>\n",
       "      <td>0.0921464898574</td>\n",
       "      <td>5</td>\n",
       "      <td>Arden Heights</td>\n",
       "      <td>Staten Island</td>\n",
       "      <td>(POLYGON ((-74.17421738099989 40.5625680859999...</td>\n",
       "    </tr>\n",
       "  </tbody>\n",
       "</table>\n",
       "</div>"
      ],
      "text/plain": [
       "          shape_area objectid       shape_leng location_id  \\\n",
       "0    0.0007823067885        1   0.116357453189           1   \n",
       "1   0.00486634037837        2    0.43346966679           2   \n",
       "2  0.000314414156821        3  0.0843411059012           3   \n",
       "3  0.000111871946192        4  0.0435665270921           4   \n",
       "4  0.000497957489363        5  0.0921464898574           5   \n",
       "\n",
       "                      zone        borough  \\\n",
       "0           Newark Airport            EWR   \n",
       "1              Jamaica Bay         Queens   \n",
       "2  Allerton/Pelham Gardens          Bronx   \n",
       "3            Alphabet City      Manhattan   \n",
       "4            Arden Heights  Staten Island   \n",
       "\n",
       "                                            geometry  \n",
       "0  (POLYGON ((-74.18445299999996 40.6949959999999...  \n",
       "1  (POLYGON ((-73.82337597260663 40.6389870471767...  \n",
       "2  (POLYGON ((-73.84792614099985 40.8713422339999...  \n",
       "3  (POLYGON ((-73.97177410965318 40.7258212813370...  \n",
       "4  (POLYGON ((-74.17421738099989 40.5625680859999...  "
      ]
     },
     "execution_count": 54,
     "metadata": {},
     "output_type": "execute_result"
    }
   ],
   "source": [
    "df_zones_pn = pd.DataFrame(data=create_zone_rows(zones_geojson[\"features\"]), \n",
    "                           columns=column_name_list)\n",
    "#df_zones_pn.head(5)"
   ]
  },
  {
   "cell_type": "code",
   "execution_count": 56,
   "metadata": {},
   "outputs": [
    {
     "data": {
      "text/html": [
       "<div>\n",
       "<style scoped>\n",
       "    .dataframe tbody tr th:only-of-type {\n",
       "        vertical-align: middle;\n",
       "    }\n",
       "\n",
       "    .dataframe tbody tr th {\n",
       "        vertical-align: top;\n",
       "    }\n",
       "\n",
       "    .dataframe thead th {\n",
       "        text-align: right;\n",
       "    }\n",
       "</style>\n",
       "<table border=\"1\" class=\"dataframe\">\n",
       "  <thead>\n",
       "    <tr style=\"text-align: right;\">\n",
       "      <th></th>\n",
       "      <th>shape_area</th>\n",
       "      <th>objectid</th>\n",
       "      <th>shape_leng</th>\n",
       "      <th>location_id</th>\n",
       "      <th>zone</th>\n",
       "      <th>borough</th>\n",
       "      <th>geometry</th>\n",
       "    </tr>\n",
       "  </thead>\n",
       "  <tbody>\n",
       "    <tr>\n",
       "      <th>0</th>\n",
       "      <td>0.0007823067885</td>\n",
       "      <td>1</td>\n",
       "      <td>0.116357453189</td>\n",
       "      <td>1</td>\n",
       "      <td>Newark Airport</td>\n",
       "      <td>EWR</td>\n",
       "      <td>MULTIPOLYGON (((-74.18445 40.69500, -74.18449 ...</td>\n",
       "    </tr>\n",
       "    <tr>\n",
       "      <th>1</th>\n",
       "      <td>0.00486634037837</td>\n",
       "      <td>2</td>\n",
       "      <td>0.43346966679</td>\n",
       "      <td>2</td>\n",
       "      <td>Jamaica Bay</td>\n",
       "      <td>Queens</td>\n",
       "      <td>MULTIPOLYGON (((-73.82338 40.63899, -73.82277 ...</td>\n",
       "    </tr>\n",
       "    <tr>\n",
       "      <th>2</th>\n",
       "      <td>0.000314414156821</td>\n",
       "      <td>3</td>\n",
       "      <td>0.0843411059012</td>\n",
       "      <td>3</td>\n",
       "      <td>Allerton/Pelham Gardens</td>\n",
       "      <td>Bronx</td>\n",
       "      <td>MULTIPOLYGON (((-73.84793 40.87134, -73.84725 ...</td>\n",
       "    </tr>\n",
       "    <tr>\n",
       "      <th>3</th>\n",
       "      <td>0.000111871946192</td>\n",
       "      <td>4</td>\n",
       "      <td>0.0435665270921</td>\n",
       "      <td>4</td>\n",
       "      <td>Alphabet City</td>\n",
       "      <td>Manhattan</td>\n",
       "      <td>MULTIPOLYGON (((-73.97177 40.72582, -73.97179 ...</td>\n",
       "    </tr>\n",
       "    <tr>\n",
       "      <th>4</th>\n",
       "      <td>0.000497957489363</td>\n",
       "      <td>5</td>\n",
       "      <td>0.0921464898574</td>\n",
       "      <td>5</td>\n",
       "      <td>Arden Heights</td>\n",
       "      <td>Staten Island</td>\n",
       "      <td>MULTIPOLYGON (((-74.17422 40.56257, -74.17349 ...</td>\n",
       "    </tr>\n",
       "  </tbody>\n",
       "</table>\n",
       "</div>"
      ],
      "text/plain": [
       "          shape_area objectid       shape_leng location_id  \\\n",
       "0    0.0007823067885        1   0.116357453189           1   \n",
       "1   0.00486634037837        2    0.43346966679           2   \n",
       "2  0.000314414156821        3  0.0843411059012           3   \n",
       "3  0.000111871946192        4  0.0435665270921           4   \n",
       "4  0.000497957489363        5  0.0921464898574           5   \n",
       "\n",
       "                      zone        borough  \\\n",
       "0           Newark Airport            EWR   \n",
       "1              Jamaica Bay         Queens   \n",
       "2  Allerton/Pelham Gardens          Bronx   \n",
       "3            Alphabet City      Manhattan   \n",
       "4            Arden Heights  Staten Island   \n",
       "\n",
       "                                            geometry  \n",
       "0  MULTIPOLYGON (((-74.18445 40.69500, -74.18449 ...  \n",
       "1  MULTIPOLYGON (((-73.82338 40.63899, -73.82277 ...  \n",
       "2  MULTIPOLYGON (((-73.84793 40.87134, -73.84725 ...  \n",
       "3  MULTIPOLYGON (((-73.97177 40.72582, -73.97179 ...  \n",
       "4  MULTIPOLYGON (((-74.17422 40.56257, -74.17349 ...  "
      ]
     },
     "execution_count": 56,
     "metadata": {},
     "output_type": "execute_result"
    }
   ],
   "source": [
    "gdf_zones = gpd.GeoDataFrame(df_zones_pn, geometry=df_zones_pn[\"geometry\"])\n",
    "#gdf_zones.head(5)"
   ]
  },
  {
   "cell_type": "code",
   "execution_count": 19,
   "metadata": {},
   "outputs": [
    {
     "data": {
      "text/plain": [
       "<pyspark.broadcast.Broadcast at 0x7f2c789d99e8>"
      ]
     },
     "execution_count": 19,
     "metadata": {},
     "output_type": "execute_result"
    }
   ],
   "source": [
    "bc_zones = spark.sparkContext.broadcast(gdf_zones)\n",
    "bc_zones"
   ]
  },
  {
   "cell_type": "code",
   "execution_count": 20,
   "metadata": {},
   "outputs": [],
   "source": [
    "def zone_contains_v2_df(rows):\n",
    "    points = list()\n",
    "    for row in rows: \n",
    "        points.append([row[\"lng\"], row[\"lat\"],row[\"trips_number_start\"],row[\"trips_number_end\"]])\n",
    "    if len(points) == 0:\n",
    "        return list()\n",
    "    df_points_pn = pd.DataFrame(points, columns=[\"lng\", \"lat\",\"trips_number_start\",\"trips_number_end\"])\n",
    "    gdf_points = gpd.GeoDataFrame(df_points_pn, \n",
    "                                  geometry=gpd.points_from_xy(df_points_pn[\"lng\"],\n",
    "                                                              df_points_pn[\"lat\"]\n",
    "                                                              ))\n",
    "    for index, item in sjoin(gdf_points, bc_zones.value, how=\"left\").iterrows():\n",
    "        yield Row(id=item[\"location_id\"], zone=item[\"zone\"], trips_number_start=item[\"trips_number_start\"]\\\n",
    "                  ,trips_number_end=item[\"trips_number_end\"] )"
   ]
  },
  {
   "cell_type": "code",
   "execution_count": 21,
   "metadata": {},
   "outputs": [],
   "source": [
    "#df_stations.rdd.mapPartitions(zone_contains_v2_df).toDF().show(5)"
   ]
  },
  {
   "cell_type": "code",
   "execution_count": 22,
   "metadata": {},
   "outputs": [
    {
     "name": "stdout",
     "output_type": "stream",
     "text": [
      "+---+-------------+---------------+-------------+\n",
      "| id|         zone|All_start_trips|All_end_trips|\n",
      "+---+-------------+---------------+-------------+\n",
      "|162| Midtown East|          13524|        13675|\n",
      "| 52|  Cobble Hill|           2809|         2727|\n",
      "| 97|  Fort Greene|          15506|        16413|\n",
      "| 78| East Tremont|              1|            9|\n",
      "|  4|Alphabet City|          10752|        10054|\n",
      "+---+-------------+---------------+-------------+\n",
      "only showing top 5 rows\n",
      "\n"
     ]
    }
   ],
   "source": [
    "df_zone_count = df_stations.rdd\\\n",
    "    .mapPartitions(zone_contains_v2_df).toDF()\\\n",
    "    .groupBy(\"id\", \"zone\")\\\n",
    "    .agg(F.sum(\"trips_number_start\").alias(\"All_start_trips\"),F.sum(\"trips_number_end\").alias(\"All_end_trips\"))\n",
    "df_zone_count.show(5)"
   ]
  },
  {
   "cell_type": "markdown",
   "metadata": {},
   "source": [
    "<h2>Вывод по убыванию в зависимости от количества конца поездок<h2>"
   ]
  },
  {
   "cell_type": "code",
   "execution_count": 23,
   "metadata": {},
   "outputs": [
    {
     "name": "stdout",
     "output_type": "stream",
     "text": [
      "+---+--------------------+---------------+-------------+\n",
      "| id|                zone|All_start_trips|All_end_trips|\n",
      "+---+--------------------+---------------+-------------+\n",
      "| 79|        East Village|          43333|        43170|\n",
      "| 68|        East Chelsea|          38967|        39395|\n",
      "|170|         Murray Hill|          32572|        32578|\n",
      "|234|            Union Sq|          30527|        31464|\n",
      "|113|Greenwich Village...|          26485|        27054|\n",
      "+---+--------------------+---------------+-------------+\n",
      "only showing top 5 rows\n",
      "\n"
     ]
    }
   ],
   "source": [
    "df_end_sort=df_zone_count.sort(F.desc(\"All_end_trips\"))\n",
    "\n",
    "df_end_sort.show(5)"
   ]
  },
  {
   "cell_type": "markdown",
   "metadata": {},
   "source": [
    "<h2>Вывод по убыванию в зависимости от количества начала поездок<h2>"
   ]
  },
  {
   "cell_type": "code",
   "execution_count": 24,
   "metadata": {},
   "outputs": [
    {
     "name": "stdout",
     "output_type": "stream",
     "text": [
      "+---+--------------------+---------------+-------------+\n",
      "| id|                zone|All_start_trips|All_end_trips|\n",
      "+---+--------------------+---------------+-------------+\n",
      "| 79|        East Village|          43333|        43170|\n",
      "| 68|        East Chelsea|          38967|        39395|\n",
      "|170|         Murray Hill|          32572|        32578|\n",
      "|234|            Union Sq|          30527|        31464|\n",
      "|113|Greenwich Village...|          26485|        27054|\n",
      "+---+--------------------+---------------+-------------+\n",
      "only showing top 5 rows\n",
      "\n"
     ]
    }
   ],
   "source": [
    "df_st_sort=df_zone_count.sort(F.desc(\"All_start_trips\"))\n",
    "\n",
    "df_st_sort.show(5)"
   ]
  },
  {
   "cell_type": "markdown",
   "metadata": {},
   "source": [
    "<h2>Отображение в виде картограмм<h2>"
   ]
  },
  {
   "cell_type": "code",
   "execution_count": 25,
   "metadata": {},
   "outputs": [],
   "source": [
    "import folium\n",
    "from folium.plugins import HeatMap, HeatMapWithTime"
   ]
  },
  {
   "cell_type": "code",
   "execution_count": 26,
   "metadata": {},
   "outputs": [],
   "source": [
    "# https://github.com/python-visualization/folium/issues/812\n",
    "def embed_map(m):\n",
    "    from IPython.display import IFrame\n",
    "    m.save('index.html')\n",
    "    return IFrame('index.html', width='100%', height='750px')"
   ]
  },
  {
   "cell_type": "code",
   "execution_count": 27,
   "metadata": {},
   "outputs": [],
   "source": [
    "m = folium.Map()\n",
    "m1 = folium.Map()"
   ]
  },
  {
   "cell_type": "code",
   "execution_count": 28,
   "metadata": {},
   "outputs": [],
   "source": [
    "df_count_pn=df_zone_count.toPandas()"
   ]
  },
  {
   "cell_type": "markdown",
   "metadata": {},
   "source": [
    "<h2>Карта распределения по количеству начала поездок<h2>"
   ]
  },
  {
   "cell_type": "code",
   "execution_count": 51,
   "metadata": {},
   "outputs": [
    {
     "data": {
      "text/html": [
       "\n",
       "        <iframe\n",
       "            width=\"100%\"\n",
       "            height=\"750px\"\n",
       "            src=\"index.html\"\n",
       "            frameborder=\"0\"\n",
       "            allowfullscreen\n",
       "        ></iframe>\n",
       "        "
      ],
      "text/plain": [
       "<IPython.lib.display.IFrame at 0x7f2c73fde5c0>"
      ]
     },
     "execution_count": 51,
     "metadata": {},
     "output_type": "execute_result"
    }
   ],
   "source": [
    "folium.Choropleth(\n",
    "    geo_data=zones_geojson,\n",
    "    data=df_count_pn,\n",
    "    columns=[\"id\", \"All_start_trips\"],\n",
    "    name=\"Number of start trips\",\n",
    "    legend_name=\"Number of start trips\",\n",
    "    key_on=\"feature.properties.location_id\",\n",
    "    highlight=True,\n",
    "    nan_fill_color=\"grey\",\n",
    "    nan_fill_opacity=0.1,\n",
    "    fill_color=\"Purples\",\n",
    "    fill_opacity=0.7,\n",
    "    line_opacity=0.2,\n",
    ").add_to(m)\n",
    "m.fit_bounds(m.get_bounds())\n",
    "embed_map(m)"
   ]
  },
  {
   "cell_type": "markdown",
   "metadata": {},
   "source": [
    "<h2>Карта распределения по количеству конца поездок<h2>"
   ]
  },
  {
   "cell_type": "code",
   "execution_count": 52,
   "metadata": {},
   "outputs": [
    {
     "data": {
      "text/html": [
       "\n",
       "        <iframe\n",
       "            width=\"100%\"\n",
       "            height=\"750px\"\n",
       "            src=\"index.html\"\n",
       "            frameborder=\"0\"\n",
       "            allowfullscreen\n",
       "        ></iframe>\n",
       "        "
      ],
      "text/plain": [
       "<IPython.lib.display.IFrame at 0x7f2c78054f60>"
      ]
     },
     "execution_count": 52,
     "metadata": {},
     "output_type": "execute_result"
    }
   ],
   "source": [
    "folium.Choropleth(\n",
    "    geo_data=zones_geojson,\n",
    "    data=df_count_pn,\n",
    "    columns=[\"id\", \"All_end_trips\"],\n",
    "    name=\"Number of end trips\",\n",
    "    legend_name=\"Number of end trips\",\n",
    "    key_on=\"feature.properties.location_id\",\n",
    "    highlight=True,\n",
    "    nan_fill_color=\"grey\",\n",
    "    nan_fill_opacity=0.1,\n",
    "    fill_color=\"Purples\",\n",
    "    fill_opacity=0.7,\n",
    "    line_opacity=0.2,\n",
    ").add_to(m1)\n",
    "m1.fit_bounds(m1.get_bounds())\n",
    "embed_map(m1)"
   ]
  },
  {
   "cell_type": "markdown",
   "metadata": {},
   "source": [
    "<h2 style=\"color: #3caa3c\"> Task 3 <h2>"
   ]
  },
  {
   "cell_type": "markdown",
   "metadata": {},
   "source": [
    "<h2> Вычисление расстояния <h2>"
   ]
  },
  {
   "cell_type": "code",
   "execution_count": 42,
   "metadata": {},
   "outputs": [
    {
     "name": "stdout",
     "output_type": "stream",
     "text": [
      "+--------+------+-----------------+-----------------+------------------+-----------------+\n",
      "|id_start|id_end|           lng_st|           lat_st|           lng_end|          lat_end|\n",
      "+--------+------+-----------------+-----------------+------------------+-----------------+\n",
      "|    3494|  3501|         -73.9423|        40.797911|       -73.9442507|       40.8014866|\n",
      "|     438|   236|     -73.98564945|      40.72779126|      -73.98713956|       40.7284186|\n",
      "|    3571|  3549|       -73.952918|        40.676368|        -73.962408|        40.678045|\n",
      "|     167|   477|     -73.97604882|       40.7489006|       -73.9900262|      40.75640548|\n",
      "|    3458|  3443|-73.9783501625061|40.76309387270797|-73.97982001304626|40.76132983124814|\n",
      "+--------+------+-----------------+-----------------+------------------+-----------------+\n",
      "only showing top 5 rows\n",
      "\n"
     ]
    }
   ],
   "source": [
    "df_trips_dist = df_trips.select(F.col(\"start station id\").alias(\"id_start\"), \n",
    "                              F.col(\"end station id\").alias(\"id_end\"), \n",
    "                              F.col(\"start station longitude\").alias(\"lng_st\"),\n",
    "                              F.col(\"start station latitude\").alias(\"lat_st\"),\n",
    "                              F.col(\"end station longitude\").alias(\"lng_end\"),\n",
    "                              F.col(\"end station latitude\").alias(\"lat_end\"))\n",
    "\n",
    "df_trips_dist.show(5)"
   ]
  },
  {
   "cell_type": "code",
   "execution_count": 43,
   "metadata": {},
   "outputs": [],
   "source": [
    "from math import cos, asin, sqrt"
   ]
  },
  {
   "cell_type": "code",
   "execution_count": 44,
   "metadata": {},
   "outputs": [],
   "source": [
    "def distance(rows):#вычисление расстояния\n",
    "    for row in rows:\n",
    "        if row[\"lat_st\"]!=row[\"lat_end\"] and row[\"lng_st\"]!=row[\"lng_end\"]:\n",
    "            lat0=row[\"lat_st\"]\n",
    "            lat1=row[\"lat_end\"]\n",
    "            lng0=row[\"lng_st\"]\n",
    "            lng1=row[\"lng_end\"]\n",
    "            lat_0=lat0-lat1\n",
    "            lng_0 = lng0-lng1\n",
    "            p = 0.017453292519943295\n",
    "            a = 0.5 - cos((lat_0) * p)/2 + cos(lat0 * p) * cos(lat1 * p) * (1 - cos((lng_0) * p)) / 2\n",
    "            c = 2 * asin(sqrt(a)) \n",
    "            r = 6371*1000*c\n",
    "            yield Row(m_dist=float(r),id_start=row[\"id_start\"],id_end=row[\"id_end\"])"
   ]
  },
  {
   "cell_type": "code",
   "execution_count": 45,
   "metadata": {},
   "outputs": [
    {
     "name": "stdout",
     "output_type": "stream",
     "text": [
      "+------+--------+------------------+\n",
      "|id_end|id_start|            m_dist|\n",
      "+------+--------+------------------+\n",
      "|  3501|    3494|430.16041257402225|\n",
      "|   236|     438|143.63994354824555|\n",
      "|  3549|    3571| 821.7251364836256|\n",
      "|   477|     167|1443.1216859041301|\n",
      "|  3443|    3458|231.94966562338428|\n",
      "+------+--------+------------------+\n",
      "only showing top 5 rows\n",
      "\n"
     ]
    }
   ],
   "source": [
    "df_dist = df_trips_dist.rdd\\\n",
    "    .mapPartitions(distance).toDF()\n",
    "df_dist.show(5)"
   ]
  },
  {
   "cell_type": "markdown",
   "metadata": {},
   "source": [
    "<h2>Расчет максимального, среднего значения, стандартного отклонения и медианы<h2>"
   ]
  },
  {
   "cell_type": "code",
   "execution_count": 48,
   "metadata": {},
   "outputs": [
    {
     "name": "stdout",
     "output_type": "stream",
     "text": [
      "+-------+------------------+\n",
      "|summary|            m_dist|\n",
      "+-------+------------------+\n",
      "|  count|            928612|\n",
      "|   mean|1640.3742164463074|\n",
      "| stddev| 1288.675635502973|\n",
      "|    min|36.735871426483946|\n",
      "|    max|15326.431486590483|\n",
      "+-------+------------------+\n",
      "\n"
     ]
    }
   ],
   "source": [
    "df_dist.describe(\"m_dist\").show(5)"
   ]
  },
  {
   "cell_type": "code",
   "execution_count": 50,
   "metadata": {},
   "outputs": [
    {
     "data": {
      "text/plain": [
       "1262.874571344554"
      ]
     },
     "execution_count": 50,
     "metadata": {},
     "output_type": "execute_result"
    }
   ],
   "source": [
    "median = df_dist.approxQuantile(\"m_dist\", [0.5], 0)[0]\n",
    "median"
   ]
  },
  {
   "cell_type": "markdown",
   "metadata": {},
   "source": [
    "<h2 style=\"color: #3caa3c\">Task 4<h2>"
   ]
  },
  {
   "cell_type": "code",
   "execution_count": 36,
   "metadata": {},
   "outputs": [],
   "source": [
    "df_med_st_trips = df_trips.select(F.col(\"start station id\").alias(\"id_start\"), \n",
    "                              F.col(\"starttime\").alias(\"st_time\")\n",
    "                              )\n",
    "\n",
    "df_med_end_trips = df_trips.select(F.col(\"end station id\").alias(\"id_end\"), \n",
    "                              F.col(\"stoptime\").alias(\"end_time\")\n",
    "                              )\n",
    "\n",
    "#df_med_st_trips.show(5)\n",
    "#df_med_end_trips.show(5)"
   ]
  },
  {
   "cell_type": "code",
   "execution_count": 37,
   "metadata": {},
   "outputs": [],
   "source": [
    "df_med_st_trips.createOrReplaceTempView(\"trips_date_st\")\n",
    "df_date_st=spark.sql(\"SELECT id_start, DATE_FORMAT(st_time, 'dd/MM/yyyy') as day from trips_date_st\")\n",
    "#df_date_st.show(5)\n",
    "\n",
    "df_med_end_trips.createOrReplaceTempView(\"trips_date_end\")\n",
    "df_date_end=spark.sql(\"SELECT id_end, DATE_FORMAT(end_time, 'dd/MM/yyyy') as day from trips_date_end\")\n",
    "#df_date_end.show(5)"
   ]
  },
  {
   "cell_type": "code",
   "execution_count": 38,
   "metadata": {},
   "outputs": [],
   "source": [
    "df_date_st.createOrReplaceTempView(\"trips_date_st\")\n",
    "df_day_num_st=spark.sql(\"SELECT id_start,count(distinct day) as num_day from trips_date_st group by id_start\")\n",
    "#df_day_num_st.show(5)\n",
    "\n",
    "df_date_end.createOrReplaceTempView(\"trips_date_end\")\n",
    "df_day_num_end=spark.sql(\"SELECT id_end,count(distinct day) as num_day from trips_date_end group by id_end\")\n",
    "#df_day_num_end.show(5)"
   ]
  },
  {
   "cell_type": "code",
   "execution_count": 41,
   "metadata": {},
   "outputs": [
    {
     "name": "stdout",
     "output_type": "stream",
     "text": [
      "+----+------------+-------------+\n",
      "|  id|med_trips_st|med_trips_end|\n",
      "+----+------------+-------------+\n",
      "| 296|        64.0|         63.0|\n",
      "|3414|        23.0|         24.0|\n",
      "|3606|         8.0|          8.0|\n",
      "| 467|        46.0|         45.0|\n",
      "|3368|        27.0|         27.0|\n",
      "+----+------------+-------------+\n",
      "only showing top 5 rows\n",
      "\n"
     ]
    }
   ],
   "source": [
    "df_day_num_st.createOrReplaceTempView(\"day_num_st\")#таблица с общим количеством дней старта\n",
    "df_day_num_end.createOrReplaceTempView(\"day_num_end\")#таблица с общим количеством дней конца\n",
    "\n",
    "df_count_start.createOrReplaceTempView(\"count_trips_st\")#таблица с общим количеством поездок старта\n",
    "df_count_end.createOrReplaceTempView(\"count_trips_end\")#таблица с общим количеством поездок конца\n",
    "\n",
    "df_med_st=spark.sql(\"SELECT ROUND(tr.trips_number_start/day.num_day) as med_trips_st,day.id_start as id from count_trips_st tr, day_num_st day where tr.id=day.id_start\")\n",
    "\n",
    "df_med_end=spark.sql(\"SELECT ROUND(tr.trips_number_end/day.num_day) as med_trips_end,day.id_end as id from count_trips_end tr, day_num_end day where tr.id=day.id_end\")\n",
    "\n",
    "df_trips_med=df_med_st.join(df_med_end,on=\"id\")\n",
    "df_trips_med.show(5)"
   ]
  },
  {
   "cell_type": "code",
   "execution_count": 57,
   "metadata": {},
   "outputs": [],
   "source": [
    "#sc.stop"
   ]
  },
  {
   "cell_type": "code",
   "execution_count": null,
   "metadata": {},
   "outputs": [],
   "source": []
  }
 ],
 "metadata": {
  "kernelspec": {
   "display_name": "Python 3",
   "language": "python",
   "name": "python3"
  },
  "language_info": {
   "codemirror_mode": {
    "name": "ipython",
    "version": 3
   },
   "file_extension": ".py",
   "mimetype": "text/x-python",
   "name": "python",
   "nbconvert_exporter": "python",
   "pygments_lexer": "ipython3",
   "version": "3.7.3"
  }
 },
 "nbformat": 4,
 "nbformat_minor": 2
}
